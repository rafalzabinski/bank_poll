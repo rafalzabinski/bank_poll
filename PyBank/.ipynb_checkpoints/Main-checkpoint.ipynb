{
 "cells": [
  {
   "cell_type": "code",
   "execution_count": 1,
   "metadata": {},
   "outputs": [],
   "source": [
    "import os\n",
    "import csv"
   ]
  },
  {
   "cell_type": "code",
   "execution_count": 2,
   "metadata": {},
   "outputs": [],
   "source": [
    "csvpath = os.path.join('03-Python_homework_assignment_PyBank_Resources_budget_data.csv')"
   ]
  },
  {
   "cell_type": "code",
   "execution_count": 3,
   "metadata": {},
   "outputs": [],
   "source": [
    "Months = []\n",
    "Total = []\n",
    "Revenue_Change = []"
   ]
  },
  {
   "cell_type": "code",
   "execution_count": 4,
   "metadata": {},
   "outputs": [],
   "source": [
    "with open (csvpath) as csvfile:\n",
    "    \n",
    "    csvreader = csv.reader(csvfile, delimiter=',')\n",
    "    next (csvreader,None)\n",
    "    for row in csvreader:\n",
    "        Total.append(int(row[1]))\n",
    "        Months.append(row[0])"
   ]
  },
  {
   "cell_type": "code",
   "execution_count": 5,
   "metadata": {},
   "outputs": [],
   "source": [
    "    for x in range(1, len(Total)):\n",
    "        Revenue_Change.append((int(Total[x]) - int(Total[x-1])))"
   ]
  },
  {
   "cell_type": "code",
   "execution_count": 6,
   "metadata": {},
   "outputs": [
    {
     "name": "stdout",
     "output_type": "stream",
     "text": [
      "1926159\n"
     ]
    }
   ],
   "source": [
    "greatest_increase = max(Revenue_Change)\n",
    "print (greatest_increase)"
   ]
  },
  {
   "cell_type": "code",
   "execution_count": 7,
   "metadata": {},
   "outputs": [
    {
     "name": "stdout",
     "output_type": "stream",
     "text": [
      "Feb-2012\n"
     ]
    }
   ],
   "source": [
    "greatest_increase_month = str(Months[Revenue_Change.index(max(Revenue_Change))+1])\n",
    "print (greatest_increase_month)"
   ]
  },
  {
   "cell_type": "code",
   "execution_count": 8,
   "metadata": {},
   "outputs": [
    {
     "name": "stdout",
     "output_type": "stream",
     "text": [
      "-2196167\n"
     ]
    }
   ],
   "source": [
    "greatest_decrease = min(Revenue_Change)\n",
    "print (greatest_decrease)"
   ]
  },
  {
   "cell_type": "code",
   "execution_count": 9,
   "metadata": {},
   "outputs": [
    {
     "name": "stdout",
     "output_type": "stream",
     "text": [
      "Sep-2013\n"
     ]
    }
   ],
   "source": [
    "greatest_decrease_month = str(Months[Revenue_Change.index(min(Revenue_Change))+1])\n",
    "print (greatest_decrease_month)"
   ]
  },
  {
   "cell_type": "code",
   "execution_count": 18,
   "metadata": {},
   "outputs": [
    {
     "data": {
      "text/plain": [
       "38382578"
      ]
     },
     "execution_count": 18,
     "metadata": {},
     "output_type": "execute_result"
    }
   ],
   "source": [
    "Total_sum = sum(Total)\n",
    "print(Total_sum)"
   ]
  },
  {
   "cell_type": "code",
   "execution_count": 71,
   "metadata": {},
   "outputs": [
    {
     "name": "stdout",
     "output_type": "stream",
     "text": [
      "-2315.12\n"
     ]
    }
   ],
   "source": [
    "Average = round(sum(Revenue_Change) / len(Revenue_Change),2)\n",
    "print(Average)"
   ]
  },
  {
   "cell_type": "code",
   "execution_count": 19,
   "metadata": {},
   "outputs": [
    {
     "data": {
      "text/plain": [
       "86"
      ]
     },
     "execution_count": 19,
     "metadata": {},
     "output_type": "execute_result"
    }
   ],
   "source": [
    "Total_Months = len(Months)\n",
    "print (Total_Months)"
   ]
  },
  {
   "cell_type": "code",
   "execution_count": 67,
   "metadata": {
    "scrolled": true
   },
   "outputs": [
    {
     "name": "stdout",
     "output_type": "stream",
     "text": [
      "Financial Analysis \n",
      "------------------------------ \n",
      "Total Months:86\n",
      "Total: $38382578\n",
      "Average  Change: $-2315.12 \n",
      "Greatest Increase in Profits: Feb-2012: $1926159\n",
      "Greatest Decrease in Profits: Sep-2013: $-2196167\n"
     ]
    }
   ],
   "source": [
    "print (f'Financial Analysis \\n------------------------------ \\nTotal Months:{Total_Months}\\nTotal: ${Total_sum}\\nAverage  Change: ${Average} \\nGreatest Increase in Profits: {greatest_increase_month}: ${greatest_increase}\\nGreatest Decrease in Profits: {greatest_decrease_month}: ${greatest_decrease}')"
   ]
  },
  {
   "cell_type": "code",
   "execution_count": 68,
   "metadata": {},
   "outputs": [],
   "source": [
    "lines =[]"
   ]
  },
  {
   "cell_type": "code",
   "execution_count": 69,
   "metadata": {},
   "outputs": [],
   "source": [
    "lines.append(\"Financial Analysis\")\n",
    "lines.append(\"----------------------------\")\n",
    "lines.append(f'Total Months:{Total_Months}')\n",
    "lines.append(f'Total: ${Total_sum}')\n",
    "lines.append(f'Average  Change: ${Average}')\n",
    "lines.append(f'Greatest Increase in Profits: {greatest_increase_month}: ${greatest_increase}')\n",
    "lines.append(f'Greatest Decrease in Profits: {greatest_decrease_month}: ${greatest_decrease}')"
   ]
  },
  {
   "cell_type": "code",
   "execution_count": 70,
   "metadata": {},
   "outputs": [],
   "source": [
    "with open('PyBank_results.txt.','w') as file:\n",
    "    for line in lines:\n",
    "        file.write('%s\\n' % line)"
   ]
  }
 ],
 "metadata": {
  "kernelspec": {
   "display_name": "Python 3",
   "language": "python",
   "name": "python3"
  },
  "language_info": {
   "codemirror_mode": {
    "name": "ipython",
    "version": 3
   },
   "file_extension": ".py",
   "mimetype": "text/x-python",
   "name": "python",
   "nbconvert_exporter": "python",
   "pygments_lexer": "ipython3",
   "version": "3.7.4"
  }
 },
 "nbformat": 4,
 "nbformat_minor": 2
}
